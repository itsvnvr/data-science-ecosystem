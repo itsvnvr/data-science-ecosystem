{
  "metadata": {
    "kernelspec": {
      "name": "python",
      "display_name": "Python (Pyodide)",
      "language": "python"
    },
    "language_info": {
      "codemirror_mode": {
        "name": "python",
        "version": 3
      },
      "file_extension": ".py",
      "mimetype": "text/x-python",
      "name": "python",
      "nbconvert_exporter": "python",
      "pygments_lexer": "ipython3",
      "version": "3.8"
    }
  },
  "nbformat_minor": 4,
  "nbformat": 4,
  "cells": [
    {
      "cell_type": "markdown",
      "source": "# Data Science Tools and Ecosystem",
      "metadata": {
        "tags": [],
        "editable": true,
        "slideshow": {
          "slide_type": ""
        }
      }
    },
    {
      "cell_type": "markdown",
      "source": "In this notebook, Data Science Tools and Ecosystem are summarized.\n\nObjectives:\n\n    - List popular languages for Data Science\n    - List commonly used libraries in Data Science\n    - Introduce Data Science tools\n    - Perform basic arithmetic operations in Python",
      "metadata": {}
    },
    {
      "cell_type": "code",
      "source": "print(\"Some of the popular languages that Data Scientists use are:\")\nlanguages = [\"Python\", \"R\", \"SQL\", \"Julia\", \"Scala\"]\nfor i, lang in enumerate(languages, start=1):\n    print(f\"{i}. {lang}\")",
      "metadata": {
        "trusted": true
      },
      "outputs": [
        {
          "name": "stdout",
          "text": "Some of the popular languages that Data Scientists use are:\n1. Python\n2. R\n3. SQL\n4. Julia\n5. Scala\n",
          "output_type": "stream"
        }
      ],
      "execution_count": 1
    },
    {
      "cell_type": "code",
      "source": "print(\"\\nSome commonly used libraries used by Data Scientists include:\")\nlibraries = [\"NumPy\", \"Pandas\", \"Scikit-learn\", \"TensorFlow\", \"Matplotlib\"]\nfor i, lib in enumerate(libraries, start=1):\n    print(f\"{i}. {lib}\")",
      "metadata": {
        "trusted": true
      },
      "outputs": [
        {
          "name": "stdout",
          "text": "\nSome commonly used libraries used by Data Scientists include:\n1. NumPy\n2. Pandas\n3. Scikit-learn\n4. TensorFlow\n5. Matplotlib\n",
          "output_type": "stream"
        }
      ],
      "execution_count": 2
    },
    {
      "cell_type": "markdown",
      "source": "| Data Science Tools |\n|--------------------|\n| Jupyter Notebook  |\n| RStudio           |\n| Apache Zeppelin   |",
      "metadata": {}
    },
    {
      "cell_type": "markdown",
      "source": "### Below are a few examples of evaluating arithmetic expressions in Python",
      "metadata": {}
    },
    {
      "cell_type": "code",
      "source": "result1 = (3 * 4) + 5\n#This a simple arithmetic expression to mutiply then add integers\nprint(result1)",
      "metadata": {
        "trusted": true
      },
      "outputs": [
        {
          "name": "stdout",
          "text": "17\n",
          "output_type": "stream"
        }
      ],
      "execution_count": 3
    },
    {
      "cell_type": "code",
      "source": "result2 = 200 / 60\n# This will convert 200 minutes to hours by diving by 60\nprint(result2)",
      "metadata": {
        "trusted": true
      },
      "outputs": [
        {
          "name": "stdout",
          "text": "3.3333333333333335\n",
          "output_type": "stream"
        }
      ],
      "execution_count": 4
    },
    {
      "cell_type": "code",
      "source": "## Author\n    \nNguyen Phuong Vu",
      "metadata": {
        "trusted": true,
        "tags": [],
        "editable": true,
        "slideshow": {
          "slide_type": ""
        }
      },
      "outputs": [],
      "execution_count": null
    }
  ]
}