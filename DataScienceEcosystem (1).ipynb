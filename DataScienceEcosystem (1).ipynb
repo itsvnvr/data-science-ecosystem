{
  "metadata": {
    "kernelspec": {
      "name": "python",
      "display_name": "Python (Pyodide)",
      "language": "python"
    },
    "language_info": {
      "codemirror_mode": {
        "name": "python",
        "version": 3
      },
      "file_extension": ".py",
      "mimetype": "text/x-python",
      "name": "python",
      "nbconvert_exporter": "python",
      "pygments_lexer": "ipython3",
      "version": "3.8"
    }
  },
  "nbformat_minor": 4,
  "nbformat": 4,
  "cells": [
    {
      "cell_type": "markdown",
      "source": "# Data Science Tools and Ecosystem",
      "metadata": {}
    },
    {
      "cell_type": "markdown",
      "source": "In this notebook, Data Science Tools and Ecosystem are summarized.\n\nObjectives:\n        \n        \n        - List popular languages for Data Science\n        - List commonly used libraries in Data Science\n        - Introduce Data Science tools\n        - Perform basic arithmetic operations in Python\n        \n",
      "metadata": {}
    },
    {
      "cell_type": "code",
      "source": "print(\"Some of the popular languages that Data Scientists use are:\")",
      "metadata": {
        "trusted": true
      },
      "outputs": [],
      "execution_count": null
    },
    {
      "cell_type": "code",
      "source": "print(\"\\nSome commonly used libraries used by Data Scientists include:\")\nlibraries = [\"NumPy\", \"Pandas\", \"Scikit-learn\", \"TensorFlow\", \"Matplotlib\"]\nfor i, lib in enumerate(libraries, start=1):\n    print(f\"{i}. {lib}\")",
      "metadata": {
        "trusted": true
      },
      "outputs": [],
      "execution_count": null
    },
    {
      "cell_type": "markdown",
      "source": "| Data Science Tools |\n|--------------------|\n| Jupyter Notebook  |\n| RStudio           |\n| Apache Zeppelin   |",
      "metadata": {}
    },
    {
      "cell_type": "markdown",
      "source": "### Below are a few examples of evaluating arithmetic expressions in Python",
      "metadata": {}
    },
    {
      "cell_type": "code",
      "source": "result1 = (3 * 4) + 5\nprint(\"\\nThe result of (3 * 4) + 5 is:\", result1)",
      "metadata": {
        "trusted": true
      },
      "outputs": [],
      "execution_count": null
    },
    {
      "cell_type": "code",
      "source": "result2 = 200 / 60\nprint(\"\\n200 minutes converted to hours is:\", result2)",
      "metadata": {
        "trusted": true
      },
      "outputs": [],
      "execution_count": null
    },
    {
      "cell_type": "markdown",
      "source": "## Author\n    \nNguyen Phuong Vu",
      "metadata": {}
    }
  ]
}